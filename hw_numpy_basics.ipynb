{
  "cells": [
    {
      "cell_type": "code",
      "execution_count": 1,
      "metadata": {},
      "outputs": [
        {
          "name": "stdout",
          "output_type": "stream",
          "text": [
            "Collecting numpy\n",
            "  Obtaining dependency information for numpy from https://files.pythonhosted.org/packages/82/0f/3f712cd84371636c5375d2dd70e7514d264cec6bdfc3d7997a4236e9f948/numpy-1.26.1-cp311-cp311-win_amd64.whl.metadata\n",
            "  Downloading numpy-1.26.1-cp311-cp311-win_amd64.whl.metadata (61 kB)\n",
            "     ---------------------------------------- 0.0/61.2 kB ? eta -:--:--\n",
            "     ------------- -------------------------- 20.5/61.2 kB ? eta -:--:--\n",
            "     ------------------------------- ------ 51.2/61.2 kB 660.6 kB/s eta 0:00:01\n",
            "     -------------------------------------- 61.2/61.2 kB 653.3 kB/s eta 0:00:00\n",
            "Downloading numpy-1.26.1-cp311-cp311-win_amd64.whl (15.8 MB)\n",
            "   ---------------------------------------- 0.0/15.8 MB ? eta -:--:--\n",
            "   ---------------------------------------- 0.1/15.8 MB 3.2 MB/s eta 0:00:05\n",
            "    --------------------------------------- 0.2/15.8 MB 3.1 MB/s eta 0:00:06\n",
            "   - -------------------------------------- 0.5/15.8 MB 3.8 MB/s eta 0:00:05\n",
            "   -- ------------------------------------- 0.9/15.8 MB 5.1 MB/s eta 0:00:03\n",
            "   --- ------------------------------------ 1.3/15.8 MB 5.7 MB/s eta 0:00:03\n",
            "   ---- ----------------------------------- 1.6/15.8 MB 6.1 MB/s eta 0:00:03\n",
            "   ----- ---------------------------------- 2.1/15.8 MB 6.5 MB/s eta 0:00:03\n",
            "   ------ --------------------------------- 2.4/15.8 MB 6.7 MB/s eta 0:00:02\n",
            "   ------- -------------------------------- 2.8/15.8 MB 6.9 MB/s eta 0:00:02\n",
            "   -------- ------------------------------- 3.2/15.8 MB 7.3 MB/s eta 0:00:02\n",
            "   --------- ------------------------------ 3.6/15.8 MB 7.2 MB/s eta 0:00:02\n",
            "   ---------- ----------------------------- 4.1/15.8 MB 7.5 MB/s eta 0:00:02\n",
            "   ----------- ---------------------------- 4.5/15.8 MB 7.6 MB/s eta 0:00:02\n",
            "   ------------ --------------------------- 5.1/15.8 MB 7.9 MB/s eta 0:00:02\n",
            "   -------------- ------------------------- 5.7/15.8 MB 8.3 MB/s eta 0:00:02\n",
            "   --------------- ------------------------ 6.3/15.8 MB 8.6 MB/s eta 0:00:02\n",
            "   ----------------- ---------------------- 6.9/15.8 MB 8.8 MB/s eta 0:00:02\n",
            "   ------------------- -------------------- 7.6/15.8 MB 9.2 MB/s eta 0:00:01\n",
            "   --------------------- ------------------ 8.3/15.8 MB 9.5 MB/s eta 0:00:01\n",
            "   ---------------------- ----------------- 9.0/15.8 MB 9.8 MB/s eta 0:00:01\n",
            "   ------------------------ --------------- 9.5/15.8 MB 9.8 MB/s eta 0:00:01\n",
            "   ------------------------- -------------- 10.2/15.8 MB 10.0 MB/s eta 0:00:01\n",
            "   --------------------------- ------------ 11.0/15.8 MB 11.3 MB/s eta 0:00:01\n",
            "   ----------------------------- ---------- 11.5/15.8 MB 11.7 MB/s eta 0:00:01\n",
            "   ------------------------------ --------- 12.1/15.8 MB 12.1 MB/s eta 0:00:01\n",
            "   -------------------------------- ------- 12.8/15.8 MB 12.4 MB/s eta 0:00:01\n",
            "   ---------------------------------- ----- 13.5/15.8 MB 13.1 MB/s eta 0:00:01\n",
            "   ----------------------------------- ---- 14.1/15.8 MB 13.4 MB/s eta 0:00:01\n",
            "   ----------------------------------- ---- 14.2/15.8 MB 13.1 MB/s eta 0:00:01\n",
            "   ------------------------------------- -- 14.9/15.8 MB 13.4 MB/s eta 0:00:01\n",
            "   -------------------------------------- - 15.4/15.8 MB 13.4 MB/s eta 0:00:01\n",
            "   ---------------------------------------  15.8/15.8 MB 12.8 MB/s eta 0:00:01\n",
            "   ---------------------------------------- 15.8/15.8 MB 12.1 MB/s eta 0:00:00\n",
            "Installing collected packages: numpy\n",
            "Successfully installed numpy-1.26.1\n",
            "Note: you may need to restart the kernel to use updated packages.\n"
          ]
        },
        {
          "name": "stderr",
          "output_type": "stream",
          "text": [
            "\n",
            "[notice] A new release of pip is available: 23.2.1 -> 23.3.1\n",
            "[notice] To update, run: python.exe -m pip install --upgrade pip\n"
          ]
        }
      ],
      "source": [
        "%pip install numpy"
      ]
    },
    {
      "cell_type": "code",
      "execution_count": 2,
      "metadata": {
        "id": "2BqGriESBT60"
      },
      "outputs": [],
      "source": [
        "import numpy as np"
      ]
    },
    {
      "cell_type": "markdown",
      "metadata": {
        "id": "Jov2tvfrhCas"
      },
      "source": [
        "## Задание 4.\n",
        "На вход дан одномерный массив $X$. Напишите функцию, которая выдает на вход массив из кумулятивных средних массива $X$. Иначе говоря, если $X = (x_1, x_2, \\ldots, x_n)$, то ответ должен быть равен $s = (s_1, s_2, \\ldots, s_n)$,  где $s_k=\\frac{x_1+...+x_k}{k}$.\n",
        "\n",
        "Используйте библиотеку <code>numpy</code> (вам поможет функция <code>cumsum</code>)."
      ]
    },
    {
      "cell_type": "code",
      "execution_count": 10,
      "metadata": {
        "id": "6elyO9H2hel_"
      },
      "outputs": [],
      "source": [
        "def cumulative_mean(X):\n",
        "    cumsum = np.array(X).cumsum()\n",
        "    indicies = np.arange(1, len(cumsum) + 1)\n",
        "    return cumsum / indicies"
      ]
    },
    {
      "cell_type": "code",
      "execution_count": 12,
      "metadata": {
        "id": "0si53kvihvik"
      },
      "outputs": [],
      "source": [
        "# test\n",
        "a = np.array([1, 2, 4, -9])\n",
        "assert np.allclose(cumulative_mean(a), np.array([1, 1.5, 7./3, -0.5]))"
      ]
    },
    {
      "cell_type": "markdown",
      "metadata": {
        "id": "GuInNGecgmFC"
      },
      "source": [
        "## Задание 5.\n",
        "На вход дан двумерный массив $X$. Напишите функцию `cumulative_mean_2d`, которая для каждой строчки $x = (x_1, x_2, \\ldots, x_n)$ массива $X$ строит строчку $s = (s_1, s_2, \\ldots, s_n)$,  где $s_k=\\frac{x_1+...+x_k}{k}$, а затем выдаёт массив из построенных строчек. Используйте библиотеку <code>numpy</code> (вам поможет функция <code>cumsum</code>). Выходом функции должен быть двумерный <code>numpy</code>-массив той же формы, что и $X$.\n",
        "\n",
        "Иначе говоря, вам необходимо написать функцию, аналогичную предыдущей, которая работает не только с одномерными, но и с двумерными массивами.\n"
      ]
    },
    {
      "cell_type": "code",
      "execution_count": 18,
      "metadata": {
        "id": "YTyOl0vzg7bf"
      },
      "outputs": [],
      "source": [
        "def cumulative_mean_2d(A):\n",
        "    cumsum = np.array(A).cumsum(axis=1)\n",
        "    indicies = np.arange(1, np.size(cumsum, axis=1) + 1)\n",
        "    return cumsum / indicies"
      ]
    },
    {
      "cell_type": "code",
      "execution_count": 19,
      "metadata": {
        "id": "zg5JnVKniwgN"
      },
      "outputs": [],
      "source": [
        "#test\n",
        "a = np.array([1, 2, 4, -9, 1, 1, 1, 1]).reshape(2, 4)\n",
        "\n",
        "assert np.allclose(cumulative_mean_2d(a),\n",
        "                   np.array([1, 1.5, 7./3, -0.5, 1, 1, 1, 1]).reshape(2,4))"
      ]
    },
    {
      "cell_type": "markdown",
      "metadata": {
        "id": "SEBKJjwvjH8N"
      },
      "source": [
        "## Задание 6.\n",
        "Задан массив $X$. Для массива $X$ необходимо сделать следующее преобразование.\n",
        "\n",
        "Необходимо написать функцию `transform`, которая построит новый массив, где все элементы с нечетными индексами требуется заменить на число 1. Все элементы с четными индексами нужно возвести в куб. Затем записать элементы в обратном порядке относительно их позиций.\n",
        "\n",
        "Используйте библиотеку `numpy`.\n",
        "\n",
        "Пример:\n",
        "[3, 1, 4, -1, 2, 3, 0] -> [27, 1, 64, 1, 8, 1, 0]"
      ]
    },
    {
      "cell_type": "code",
      "execution_count": 33,
      "metadata": {
        "id": "sdAYGQphjOAW"
      },
      "outputs": [],
      "source": [
        "def transform(X):\n",
        "    arr = np.array(X)\n",
        "    arr[1::2] = 1\n",
        "    arr[::2] **= 3\n",
        "    return arr"
      ]
    },
    {
      "cell_type": "code",
      "execution_count": 34,
      "metadata": {
        "id": "-DcCoQZ0jf7l"
      },
      "outputs": [],
      "source": [
        "#test\n",
        "X = np.array([5, -2, 44, 8, 0, -2, -3, 1, 5, 3])\n",
        "\n",
        "assert np.allclose(transform(X), np.array([125, 1, 85184, 1, 0, 1, -27, 1, 125, 1]))"
      ]
    },
    {
      "cell_type": "markdown",
      "metadata": {
        "id": "LLKUEcuLeeeR"
      },
      "source": [
        "## Задание 7.\n",
        "Напишите функцию, которая находит сумму четных элементов на главной диагонали квадратной матрицы (именно чётных элементов, а не элементов на чётных позициях!). Если чётных элементов нет, то вывести `0`. Используйте библиотеку `numpy`.\n",
        "\n"
      ]
    },
    {
      "cell_type": "code",
      "execution_count": 66,
      "metadata": {
        "id": "lzJyNZE_Z4QH"
      },
      "outputs": [],
      "source": [
        "def diag_2k(a: np.array):\n",
        "    diag = np.diag(a)\n",
        "    return diag[diag % 2 == 0].sum()"
      ]
    },
    {
      "cell_type": "code",
      "execution_count": 67,
      "metadata": {
        "id": "FNIXrMPnfRRI"
      },
      "outputs": [],
      "source": [
        "#test\n",
        "a = np.array([1, 3, 6,\n",
        "              2, 8,-2,\n",
        "              -2, 0, -2],\n",
        "             dtype=int).reshape(3,3)\n",
        "\n",
        "assert np.allclose(diag_2k(a), 6)"
      ]
    }
  ],
  "metadata": {
    "colab": {
      "provenance": []
    },
    "kernelspec": {
      "display_name": "Python 3",
      "name": "python3"
    },
    "language_info": {
      "codemirror_mode": {
        "name": "ipython",
        "version": 3
      },
      "file_extension": ".py",
      "mimetype": "text/x-python",
      "name": "python",
      "nbconvert_exporter": "python",
      "pygments_lexer": "ipython3",
      "version": "3.11.6"
    }
  },
  "nbformat": 4,
  "nbformat_minor": 0
}
